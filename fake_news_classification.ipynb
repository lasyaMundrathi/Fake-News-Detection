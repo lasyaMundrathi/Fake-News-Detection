{
  "cells": [
    {
      "cell_type": "code",
      "source": [
        "!pip install nltk"
      ],
      "metadata": {
        "colab": {
          "base_uri": "https://localhost:8080/"
        },
        "id": "-6OxBiOJI8WC",
        "outputId": "0602071e-0f1a-42a8-fc49-58fa9c4de9df"
      },
      "execution_count": 1,
      "outputs": [
        {
          "output_type": "stream",
          "name": "stdout",
          "text": [
            "Looking in indexes: https://pypi.org/simple, https://us-python.pkg.dev/colab-wheels/public/simple/\n",
            "Requirement already satisfied: nltk in /usr/local/lib/python3.8/dist-packages (3.7)\n",
            "Requirement already satisfied: tqdm in /usr/local/lib/python3.8/dist-packages (from nltk) (4.64.1)\n",
            "Requirement already satisfied: regex>=2021.8.3 in /usr/local/lib/python3.8/dist-packages (from nltk) (2022.6.2)\n",
            "Requirement already satisfied: joblib in /usr/local/lib/python3.8/dist-packages (from nltk) (1.2.0)\n",
            "Requirement already satisfied: click in /usr/local/lib/python3.8/dist-packages (from nltk) (7.1.2)\n"
          ]
        }
      ]
    },
    {
      "cell_type": "code",
      "source": [
        "import warnings\n",
        "warnings.filterwarnings('ignore')"
      ],
      "metadata": {
        "id": "IG6WK794J6lF"
      },
      "execution_count": 2,
      "outputs": []
    },
    {
      "cell_type": "code",
      "execution_count": 3,
      "metadata": {
        "id": "PvQuMNK67LMn",
        "colab": {
          "base_uri": "https://localhost:8080/"
        },
        "outputId": "91a4eb35-356b-490b-f374-b1ab0cd1deb7"
      },
      "outputs": [
        {
          "output_type": "stream",
          "name": "stderr",
          "text": [
            "[nltk_data] Downloading package punkt to /root/nltk_data...\n",
            "[nltk_data]   Unzipping tokenizers/punkt.zip.\n"
          ]
        },
        {
          "output_type": "execute_result",
          "data": {
            "text/plain": [
              "True"
            ]
          },
          "metadata": {},
          "execution_count": 3
        }
      ],
      "source": [
        "import csv                               # csv reader\n",
        "import re                                # regular expressions\n",
        "from sklearn.svm import LinearSVC\n",
        "from nltk.classify import SklearnClassifier\n",
        "from nltk import word_tokenize\n",
        "from nltk.stem.porter import PorterStemmer\n",
        "from nltk.tokenize import RegexpTokenizer\n",
        "from nltk.corpus import stopwords\n",
        "from sklearn import metrics\n",
        "from sklearn.metrics import precision_recall_fscore_support # to report on precision and recall\n",
        "from random import shuffle\n",
        "from nltk.tokenize import word_tokenize\n",
        "import numpy as np\n",
        "from sklearn.pipeline import Pipeline\n",
        "import nltk\n",
        "nltk.download('punkt')"
      ]
    },
    {
      "cell_type": "code",
      "execution_count": 4,
      "metadata": {
        "id": "nbap6Xgr7LMr"
      },
      "outputs": [],
      "source": [
        "def load_data(path):\n",
        "    \"\"\"\n",
        "    Load data from a tab-separated file and append it to raw_data.\n",
        "    \"\"\"\n",
        "    with open(path) as f:\n",
        "        reader = csv.reader(f, delimiter='\\t')\n",
        "        for line in reader:\n",
        "            if line[0] == \"Id\":  # skip header\n",
        "                continue\n",
        "            (label, text) = parse_data_line(line)\n",
        "            raw_data.append((text, label))\n",
        "\n",
        "def split_and_preprocess_data(percentage):\n",
        "    \"\"\"\n",
        "    Split the data between train_data and test_data according to the percentage\n",
        "    and performs the preprocessing.\n",
        "    \"\"\"\n",
        "    num_samples = len(raw_data)\n",
        "    num_training_samples = int((percentage * num_samples))\n",
        "    for (text, label) in raw_data[:num_training_samples]:\n",
        "        train_data.append((to_feature_vector(pre_process(text)),label))\n",
        "    for (text, label) in raw_data[num_training_samples:]:\n",
        "        test_data.append((to_feature_vector(pre_process(text)),label))\n",
        "        \n",
        "        "
      ]
    },
    {
      "cell_type": "markdown",
      "source": [
        "#Input and Basic preprocessing"
      ],
      "metadata": {
        "id": "uPUn34JiKwiz"
      }
    },
    {
      "cell_type": "code",
      "execution_count": 5,
      "metadata": {
        "id": "8WQpY9zt7LMs"
      },
      "outputs": [],
      "source": [
        "def convert_label(label):\n",
        "      \"\"\"\n",
        "      Converts the multiple classes into two, making it a binary distinction between fake news and real.\n",
        "      \"\"\"\n",
        "      #return label\n",
        "      # Converting the multiclass labels to binary label\n",
        "      labels_map = {\n",
        "          'true': 'REAL',\n",
        "          'mostly-true': 'REAL',\n",
        "          'half-true': 'REAL',\n",
        "          'false': 'FAKE',\n",
        "          'barely-true': 'FAKE',\n",
        "          'pants-fire': 'FAKE'\n",
        "      }\n",
        "      return labels_map[label]\n",
        "\n",
        "\n",
        "def parse_data_line(data_line):\n",
        "    label=convert_label(data_line[1])\n",
        "    statement=data_line[2]\n",
        "    return (label, statement)"
      ]
    },
    {
      "cell_type": "code",
      "execution_count": 6,
      "metadata": {
        "id": "S8W01Kda7LMs",
        "colab": {
          "base_uri": "https://localhost:8080/"
        },
        "outputId": "6b4c8b96-9b26-4997-e9f5-8ec0a5323c8f"
      },
      "outputs": [
        {
          "output_type": "stream",
          "name": "stdout",
          "text": [
            "['hello', '', 'how', 'can', 'i', 'help', 'you', '']\n"
          ]
        }
      ],
      "source": [
        "# TEXT PREPROCESSING AND FEATURE VECTORIZATION\n",
        "ps = PorterStemmer()\n",
        "# input: a string of one review\n",
        "def pre_process(text):\n",
        "    \"\"\"\n",
        "    Here word tokenizer from nltk library splits the text into token of words using defined \n",
        "    punctuation in the nltk library and Porter Stemmer converts the tokenized text words into their root \n",
        "    form and this is returned in the form of list.\n",
        "    \"\"\"  \n",
        "    tokens = word_tokenize(text)  # Splits the words into tokens\n",
        "    words1=[]\n",
        "    for word in tokens:\n",
        "      words1.append(re.sub('[^a-zA-z]','',word)) #Removing all the puncuation marks\n",
        "    token_words = [ps.stem(word) for word in words1]  #Stemming\n",
        "    return token_words\n",
        "\n",
        "print(pre_process(\"hello ! How can I help you ?\"))"
      ]
    },
    {
      "cell_type": "markdown",
      "source": [
        "#  Basic Feature Extraction"
      ],
      "metadata": {
        "id": "MxOxTlH6osO8"
      }
    },
    {
      "cell_type": "code",
      "execution_count": 7,
      "metadata": {
        "id": "395LHQiI7LMt",
        "colab": {
          "base_uri": "https://localhost:8080/"
        },
        "outputId": "8a21cbdd-441b-4c75-ad7a-0e0522a41156"
      },
      "outputs": [
        {
          "output_type": "stream",
          "name": "stdout",
          "text": [
            "{1: 0.1111111111111111, 2: 0.2222222222222222, 3: 0.2222222222222222, 4: 0.2222222222222222, 5: 0.1111111111111111, 6: 0.1111111111111111}\n"
          ]
        }
      ],
      "source": [
        "global_feature_dict = {} # A global dictionary of features\n",
        "\n",
        "def to_feature_vector(tokens):\n",
        "  \"\"\"\n",
        "  Global feature dictionary helps us to track number of features in the dataset a unique index is \n",
        "  assigned if word appears only once if a word is present in the dictionary then its index is used.\n",
        "   Local feature dictionary calculates term frequency of the words i.e., number of times a word occurs in the document \n",
        "   by total number of words in the dictionary.Term frequency is generally used to normalize the text in the document.\n",
        "   \"\"\"\n",
        "  f_v = {} #local dictionary of features\n",
        "  for t in tokens:\n",
        "        if t not in global_feature_dict:\n",
        "            global_feature_dict[t] = len(global_feature_dict) + 1\n",
        "        \n",
        "        rep = global_feature_dict[t]\n",
        "        #term frequency method\n",
        "        if rep not in f_v:\n",
        "            f_v[rep] = (1 / len(tokens))\n",
        "        else:\n",
        "            f_v[rep] += (1 / len(tokens))\n",
        "\n",
        "  return f_v\n",
        "\n",
        "print(to_feature_vector(['hello', 'how', 'how','can', 'can','i','i', 'help', 'you']))  "
      ]
    },
    {
      "cell_type": "code",
      "execution_count": 8,
      "metadata": {
        "id": "tya6TqnR7LMv"
      },
      "outputs": [],
      "source": [
        "# TRAINING AND VALIDATING OUR CLASSIFIER\n",
        "def train_classifier(trainData):\n",
        "    print(\"Training Classifier...\")\n",
        "    pipeline =  Pipeline([('svc', LinearSVC())])\n",
        "    return SklearnClassifier(pipeline).train(trainData)"
      ]
    },
    {
      "cell_type": "code",
      "execution_count": 9,
      "metadata": {
        "id": "FbMruxwO7LMv"
      },
      "outputs": [],
      "source": [
        "# PREDICTING LABELS GIVEN A CLASSIFIER\n",
        "\n",
        "def predict_labels(samples, classifier):\n",
        "    \"\"\"\n",
        "    Assuming preprocessed samples, return their predicted labels from the classifier model.\n",
        "    \"\"\"\n",
        "    return classifier.classify_many(samples)\n",
        "\n",
        "def predict_label_from_raw(sample, classifier):\n",
        "    \"\"\"\n",
        "    Assuming raw text, return its predicted label from the classifier model.\n",
        "    \"\"\"\n",
        "    return classifier.classify(to_feature_vector(pre_process(sample)))"
      ]
    },
    {
      "cell_type": "markdown",
      "source": [
        "# Cross-validation"
      ],
      "metadata": {
        "id": "a_7tBT4no7Bs"
      }
    },
    {
      "cell_type": "code",
      "source": [
        "#cross validation\n",
        "# from sklearn.metrics import classification_report\n",
        "fold1_val_label=[]\n",
        "fold1_val_pred=[]\n",
        "def cross_validate(dataset, folds):\n",
        "    shuffle(dataset)\n",
        "    results = []\n",
        "    fold_size = int(len(dataset)/folds) + 1\n",
        "    cv_accuracy=0\n",
        "    # fold1_dict = {\"fold1_val_data\":[], \"fold1_true_label\":[], \"fold_pred\":[],\n",
        "    #               \"False_Positive\":[], \"False_Negative\": []}\n",
        "    for i in range(0,len(dataset),int(fold_size)):\n",
        "        # insert code here that trains and tests on the 10 folds of data in the dataset\n",
        "        print(\"Fold start on items %d - %d\" % (i, i+fold_size))\n",
        "        accuracy=0\n",
        "        train_data = dataset[ i + fold_size:]+dataset[ : i]\n",
        "        val_data = dataset[i:i+fold_size]\n",
        "        classifier = train_classifier(train_data)\n",
        "        val_label = [x[1] for x in val_data]\n",
        "        val_data1 = [x[0] for x in val_data]\n",
        "        val_pred = predict_labels(val_data1, classifier)\n",
        "        #precision, recall, fscore, _ = metrics.precision_recall_fscore_support(validation_labels, predicted_labels, average='weighted')\n",
        "        results.append(precision_recall_fscore_support(val_label, val_pred, average='weighted'))\n",
        "        accuracy = metrics.accuracy_score(val_label, val_pred)\n",
        "        cv_accuracy+=accuracy\n",
        "\n",
        "    #cv_results consits of average precision, recall,fscore, accuracy              \n",
        "    cv_Results = [np.mean([x[0] for x in results]),\n",
        "                   np.mean([x[1] for x in results]),\n",
        "                   np.mean([x[2] for x in results]),\n",
        "                   cv_accuracy/folds\n",
        "                ]\n",
        "    \"\"\"\n",
        "    STEPS:\n",
        "        1.for the cross validation, data set is divided into 10 folds, for each fold a training and validation data is created. \n",
        "        2. Here i is increment by fold size in each iteration untill length of the dataset. \n",
        "           suppose i =1 and fold size is 100 validation data is collected from data having index [1 + (1+foldsize):] and training data is collected \n",
        "            from index [0:1]+[1+foldsize:]. \n",
        "        3.Linear SVM classifier trains on the training data.\n",
        "        4.labels and data is collected from the validation data for further prediction.\n",
        "        5.precision, recall, fscore and support is calculated using validation labels and labels predicted from the classifier.\n",
        "        6.accuracy is found using the metrics. \n",
        "        7. for each iteration from the step 2 all the steps are repeated.\n",
        "        8. average results are calculated for each metrics and returned in the form of lists \n",
        "    \"\"\"\n",
        "        \n",
        "    return cv_Results"
      ],
      "metadata": {
        "id": "6hQz_sgzIt9j"
      },
      "execution_count": 10,
      "outputs": []
    },
    {
      "cell_type": "code",
      "execution_count": 12,
      "metadata": {
        "colab": {
          "base_uri": "https://localhost:8080/"
        },
        "id": "y8jf1Hp37LMw",
        "outputId": "92eb4a0a-b69e-4088-f84a-bdde3044af4c"
      },
      "outputs": [
        {
          "output_type": "stream",
          "name": "stdout",
          "text": [
            "Now 0 rawData, 0 trainData, 0 testData\n",
            "Preparing the dataset...\n",
            "Now 4462 rawData, 0 trainData, 0 testData\n",
            "Preparing training and test data...\n",
            "After split, 4462 rawData, 3569 trainData, 893 testData\n",
            "Training Samples: \n",
            "3569\n",
            "Features: \n",
            "5932\n"
          ]
        }
      ],
      "source": [
        "# MAIN\n",
        "\n",
        "# loading reviews\n",
        "# initialize global lists that will be appended to by the methods below\n",
        "raw_data = []          # the filtered data from the dataset file\n",
        "train_data = []        # the pre-processed training data as a percentage of the total dataset\n",
        "test_data = []         # the pre-processed test data as a percentage of the total dataset\n",
        "\n",
        "\n",
        "# references to the data files\n",
        "data_file_path = 'fake_news.tsv'\n",
        "\n",
        "# Do the actual stuff (i.e. call the functions we've made)\n",
        "# We parse the dataset and put it in a raw data list\n",
        "print(\"Now %d rawData, %d trainData, %d testData\" % (len(raw_data), len(train_data), len(test_data)),\n",
        "      \"Preparing the dataset...\",sep='\\n')\n",
        "\n",
        "load_data(data_file_path) \n",
        "\n",
        "# We split the raw dataset into a set of training data and a set of test data (80/20)\n",
        "# You do the cross validation on the 80% (training data)\n",
        "# We print the number of training samples and the number of features before the split\n",
        "print(\"Now %d rawData, %d trainData, %d testData\" % (len(raw_data), len(train_data), len(test_data)),\n",
        "      \"Preparing training and test data...\",sep='\\n')\n",
        "\n",
        "split_and_preprocess_data(0.8)\n",
        "\n",
        "# We print the number of training samples and the number of features after the split\n",
        "print(\"After split, %d rawData, %d trainData, %d testData\" % (len(raw_data), len(train_data), len(test_data)),\n",
        "      \"Training Samples: \", len(train_data), \"Features: \", len(global_feature_dict), sep='\\n')"
      ]
    },
    {
      "cell_type": "code",
      "execution_count": 13,
      "metadata": {
        "colab": {
          "base_uri": "https://localhost:8080/"
        },
        "id": "eT4F9sjX7LMx",
        "outputId": "fd176b78-ba24-4b4e-ea1c-f22d8b675e15"
      },
      "outputs": [
        {
          "output_type": "stream",
          "name": "stdout",
          "text": [
            "Fold start on items 0 - 357\n",
            "Training Classifier...\n",
            "Fold start on items 357 - 714\n",
            "Training Classifier...\n",
            "Fold start on items 714 - 1071\n",
            "Training Classifier...\n",
            "Fold start on items 1071 - 1428\n",
            "Training Classifier...\n",
            "Fold start on items 1428 - 1785\n",
            "Training Classifier...\n",
            "Fold start on items 1785 - 2142\n",
            "Training Classifier...\n",
            "Fold start on items 2142 - 2499\n",
            "Training Classifier...\n",
            "Fold start on items 2499 - 2856\n",
            "Training Classifier...\n",
            "Fold start on items 2856 - 3213\n",
            "Training Classifier...\n",
            "Fold start on items 3213 - 3570\n",
            "Training Classifier...\n",
            "Precision_score: 0.6005216499417911\n",
            " Recall_score: 0.6024179334655211\n",
            " FScore: 0.585279306234991\n",
            "Accuracy: 0.6024179334655211\n"
          ]
        }
      ],
      "source": [
        "cv_results = cross_validate(train_data, 10)\n",
        "print('Precision_score: {0}\\n Recall_score: {1}\\n FScore: {2}\\nAccuracy: {3}'.format(cv_results[0], cv_results[1], cv_results[2],cv_results[3]))"
      ]
    },
    {
      "cell_type": "markdown",
      "source": [
        "# Error Analysis"
      ],
      "metadata": {
        "id": "BLhQE1fneH9T"
      }
    },
    {
      "cell_type": "code",
      "source": [
        "#error analysis\n",
        "from sklearn.metrics import classification_report\n",
        "def get_sentence(sentence):\n",
        "  #retracing tokens from the global_feature_dictionary defined in the feature vector function\n",
        "    ids = list(sentence.keys())    \n",
        "    words = []\n",
        "    for w, id in global_feature_dict.items():\n",
        "        if id in ids:\n",
        "            words.append(w)\n",
        "    return words"
      ],
      "metadata": {
        "id": "yTBfyJROQSVJ"
      },
      "execution_count": 14,
      "outputs": []
    },
    {
      "cell_type": "code",
      "source": [
        "from sklearn import metrics\n",
        "import matplotlib.pyplot as plt\n",
        "# a function to make the confusion matrix readable and pretty\n",
        "labels=['FAKE','REAL']\n",
        "def confusion_matrix_heatmap(y_test, preds, labels):\n",
        "    \"\"\"Function to plot a confusion matrix\"\"\"\n",
        "    # pass labels to the confusion matrix function to ensure right order\n",
        "    cm = metrics.confusion_matrix(y_test, preds, labels=labels)\n",
        "    fig = plt.figure(figsize=(10,10))\n",
        "    ax = fig.add_subplot(111)\n",
        "    cax = ax.matshow(cm)\n",
        "    plt.title('Confusion matrix of the classifier')\n",
        "    fig.colorbar(cax)\n",
        "    ax.set_xticks(np.arange(len(labels)))\n",
        "    ax.set_yticks(np.arange(len(labels)))\n",
        "    ax.set_xticklabels( labels, rotation=45)\n",
        "    ax.set_yticklabels( labels)\n",
        "\n",
        "    for i in range(len(cm)):\n",
        "        for j in range(len(cm)):\n",
        "            text = ax.text(j, i, cm[i, j],\n",
        "                           ha=\"center\", va=\"center\", color=\"w\")\n",
        "\n",
        "    plt.xlabel('Predicted')\n",
        "    plt.ylabel('True')\n",
        "    \n",
        "    # fix for mpl bug that cuts off top/bottom of seaborn viz:\n",
        "    b, t = plt.ylim() # discover the values for bottom and top\n",
        "    b += 0.5 # Add 0.5 to the bottom\n",
        "    t -= 0.5 # Subtract 0.5 from the top\n",
        "    plt.ylim(b, t) # update the ylim(bottom, top) values\n",
        "    plt.show() # ta-da!\n",
        "    plt.show()"
      ],
      "metadata": {
        "id": "PiLIhw2SRDLd"
      },
      "execution_count": 15,
      "outputs": []
    },
    {
      "cell_type": "code",
      "source": [
        "# take one fold for analysis\n",
        "fold_size = int(len(train_data)/10) + 1\n",
        "i = 0 # take first fold\n",
        "print(\"Fold start on items %d - %d\" % (i, i+fold_size))\n",
        "fold_test_data = train_data[i:i+fold_size]\n",
        "fold_train_data = train_data[:i] + train_data[i+fold_size:]\n",
        "classifier = train_classifier(fold_train_data)\n",
        "y_true = [x[1] for x in fold_test_data]\n",
        "y_pred = predict_labels([x[0] for x in fold_test_data], classifier)\n",
        "print(precision_recall_fscore_support(y_true, y_pred, average='weighted'))\n",
        "print(classification_report(y_true,y_pred))"
      ],
      "metadata": {
        "colab": {
          "base_uri": "https://localhost:8080/"
        },
        "id": "c4HxZsl9-moS",
        "outputId": "450f73eb-6d3e-4475-ed06-148c44629fdd"
      },
      "execution_count": 17,
      "outputs": [
        {
          "output_type": "stream",
          "name": "stdout",
          "text": [
            "Fold start on items 0 - 357\n",
            "Training Classifier...\n",
            "(0.6237710770582743, 0.6358543417366946, 0.621501896887112, None)\n",
            "              precision    recall  f1-score   support\n",
            "\n",
            "        FAKE       0.56      0.40      0.47       142\n",
            "        REAL       0.67      0.79      0.72       215\n",
            "\n",
            "    accuracy                           0.64       357\n",
            "   macro avg       0.61      0.60      0.60       357\n",
            "weighted avg       0.62      0.64      0.62       357\n",
            "\n"
          ]
        }
      ]
    },
    {
      "cell_type": "code",
      "source": [
        "confusion_matrix_heatmap(y_true, y_pred,labels=labels)"
      ],
      "metadata": {
        "colab": {
          "base_uri": "https://localhost:8080/",
          "height": 632
        },
        "id": "8uPs0TreWtgw",
        "outputId": "3ca443f0-6787-484d-b33a-e4b006885dd2"
      },
      "execution_count": 19,
      "outputs": [
        {
          "output_type": "display_data",
          "data": {
            "text/plain": [
              "<Figure size 720x720 with 2 Axes>"
            ],
            "image/png": "[encoded data removed]"
          },
          "metadata": {
            "needs_background": "light"
          }
        }
      ]
    },
    {
      "cell_type": "markdown",
      "source": [
        "we have 45 false negatives and 85 false postives"
      ],
      "metadata": {
        "id": "2EkBThfo_KWa"
      }
    },
    {
      "cell_type": "code",
      "source": [
        "classifier=train_classifier(train_data[820:])\n",
        "featuresets_val=[]\n",
        "labelsets_val=[]\n",
        "for val_ix in [x for x in list(range(0,820,1))]:\n",
        "  (features,labels) = train_data[val_ix]\n",
        "  featuresets_val.append(features)\n",
        "  labelsets_val.append(labels)\n",
        "predictionsets = predict_labels(featuresets_val, classifier)  "
      ],
      "metadata": {
        "colab": {
          "base_uri": "https://localhost:8080/"
        },
        "id": "7TfrlbQDiQEc",
        "outputId": "5da9925c-99e2-4642-d300-8f75d3bf07a1"
      },
      "execution_count": 20,
      "outputs": [
        {
          "output_type": "stream",
          "name": "stdout",
          "text": [
            "Training Classifier...\n"
          ]
        }
      ]
    },
    {
      "cell_type": "markdown",
      "source": [
        "# False positives for FAKE (which real news is being falsely classified as fake)"
      ],
      "metadata": {
        "id": "VUnHqpGGlMEL"
      }
    },
    {
      "cell_type": "code",
      "source": [
        "for (sentence, true, predicted) in zip(raw_data[0:820],labelsets_val,predictionsets):\n",
        "  if true == 'FAKE':\n",
        "    if predicted == 'REAL':\n",
        "      print(f'Sentence:{sentence[0]} Ground Truth : {true} Predicted : {predicted}')"
      ],
      "metadata": {
        "colab": {
          "base_uri": "https://localhost:8080/"
        },
        "id": "a_AqcxJLk8uq",
        "outputId": "7414f836-c069-4db4-f2df-7513344f0260"
      },
      "execution_count": 21,
      "outputs": [
        {
          "output_type": "stream",
          "name": "stdout",
          "text": [
            "Sentence:Health care reform legislation is likely to mandate free sex change surgeries. Ground Truth : FAKE Predicted : REAL\n",
            "Sentence:When Mitt Romney was governor of Massachusetts, we didnt just slow the rate of growth of our government, we actually cut it. Ground Truth : FAKE Predicted : REAL\n",
            "Sentence:Most of the (Affordable Care Act) has already in some sense been waived or otherwise suspended. Ground Truth : FAKE Predicted : REAL\n",
            "Sentence:McCain opposed a requirement that the government buy American-made motorcycles. And he said all buy-American provisions were quote 'disgraceful.'  Ground Truth : FAKE Predicted : REAL\n",
            "Sentence:Says Scott Walker favors cutting up to 350,000 families and children off health care. Ground Truth : FAKE Predicted : REAL\n",
            "Sentence:We cut business taxes so today 70 percent of our businesses dont pay a business tax. Ground Truth : FAKE Predicted : REAL\n",
            "Sentence:Says Ohio budget item later signed into law by Gov. John Kasich requires women seeking an abortion to undergo a mandatory vaginal probe. Ground Truth : FAKE Predicted : REAL\n",
            "Sentence:Said he's the only Republican candidate \"who's actually turned around a government economy.\" Ground Truth : FAKE Predicted : REAL\n",
            "Sentence:If you take the population growth here in Virginia, we are net zero on job creation since (Bob McDonnell) became governor. Ground Truth : FAKE Predicted : REAL\n",
            "Sentence:The new Arizona immigration law \"says that any police officer can stop anyone who appears to them to be reasonably suspicious of being an undocumented person.\" Ground Truth : FAKE Predicted : REAL\n",
            "Sentence:The cost of health care is now the single-biggest factor driving down the federal budget deficit. Ground Truth : FAKE Predicted : REAL\n",
            "Sentence:Says Charlie Crist supports cuts to the Medicare Advantage program. Ground Truth : FAKE Predicted : REAL\n",
            "Sentence:I think it is unacceptable for the Chinese today to be larger in wind power and in solar panels and photovoltaic manufacturing than all of Europe put together -- forget the United States. Ground Truth : FAKE Predicted : REAL\n",
            "Sentence:Says U.S. Rep. Steve Southerland voted to keep the shutdown going. Ground Truth : FAKE Predicted : REAL\n",
            "Sentence:There is a federal criminal law that says its a crime to transport dentures across state lines. Ground Truth : FAKE Predicted : REAL\n",
            "Sentence:Says David Jolly supports privatizing Social Security. Ground Truth : FAKE Predicted : REAL\n",
            "Sentence:The Florida Department of Agricultures website FreshFromFlorida.com can be used to get a permit to carry a loaded hidden gun without ever leaving your house. Ground Truth : FAKE Predicted : REAL\n",
            "Sentence:The (federal) debt is growing by more than $4 billion a day. Ground Truth : FAKE Predicted : REAL\n",
            "Sentence:Of our 98,000 teachers who are K-12, over 53,000 of those teachers today are over 50 years old. Ground Truth : FAKE Predicted : REAL\n",
            "Sentence:Under President Obamas health-care reforms, the premium for an average plan for a family didnt go down by $2,500 per year, its gone up about $2,500 per year. Ground Truth : FAKE Predicted : REAL\n",
            "Sentence:President Obama decided not to meet with Prime Minister Benjamin Netanyahu in New York. Ground Truth : FAKE Predicted : REAL\n",
            "Sentence:Medicaid spending declined by 1.9 percent in 2012, the second such decline in 47 years. Ground Truth : FAKE Predicted : REAL\n",
            "Sentence:Gov. Rick Scott cut the cost of prepaid college tuition by nearly $20,000. Ground Truth : FAKE Predicted : REAL\n",
            "Sentence:The city of Columbus would save $41 million a year if employees had to contribute to their own, guaranteed-check pensions. Ground Truth : FAKE Predicted : REAL\n",
            "Sentence:As Florida's CFO, I shut down Krakow's scam and refunded more than $1.2 million to Josephine and other victims of this con man. Ground Truth : FAKE Predicted : REAL\n",
            "Sentence:The Air Force wants taxpayers to fund a fantasy football league. Ground Truth : FAKE Predicted : REAL\n",
            "Sentence:About 3 percent of murders and crimes are committed with guns from people who actually (legally) purchase those guns. Ground Truth : FAKE Predicted : REAL\n",
            "Sentence:The president said hes going to bring in 250,000 (Syrian and Iraqi) refugees into this country. Ground Truth : FAKE Predicted : REAL\n",
            "Sentence:Mr. Caprio is a career politician who has never worked in the private sector. Ground Truth : FAKE Predicted : REAL\n",
            "Sentence:In just 17 years, spending for Social Security, federal health care and interest on the debt will exceed ALL tax revenue! Ground Truth : FAKE Predicted : REAL\n",
            "Sentence:Donald Trump has said nuclear proliferation is OK. Ground Truth : FAKE Predicted : REAL\n",
            "Sentence:Hillary Clinton has taken over $800,000 from lobbyists. Ground Truth : FAKE Predicted : REAL\n",
            "Sentence:Barack Obama has never even worked in business. Ground Truth : FAKE Predicted : REAL\n",
            "Sentence:Rob Cornilles supports privatizing Medicare. Ground Truth : FAKE Predicted : REAL\n",
            "Sentence:Whether you like to admit it or not, half our general revenue goes to education. Ground Truth : FAKE Predicted : REAL\n",
            "Sentence:Climate change is directly related to the growth of terrorism. Ground Truth : FAKE Predicted : REAL\n",
            "Sentence:While Sarah was Mayor of Wasilla she tried to fire our highly respected City Librarian because the Librarian refused to consider removing from the library some books that Sarah wanted removed. Ground Truth : FAKE Predicted : REAL\n",
            "Sentence:Says Rick Perry wrote a letter supporting Hillarycare. Ground Truth : FAKE Predicted : REAL\n",
            "Sentence:Says Chris Christie vetoed a jobs package of 30 bills. Ground Truth : FAKE Predicted : REAL\n",
            "Sentence:Romney failed to take action against \"sanctuary cities\" in Massachusetts. Ground Truth : FAKE Predicted : REAL\n",
            "Sentence:If Texas were a country our economy would rank # 10...in the WORLD. Ground Truth : FAKE Predicted : REAL\n",
            "Sentence:There are more oil rigs in operation in the United States than the rest of the world combined. Ground Truth : FAKE Predicted : REAL\n",
            "Sentence:Payday lenders profit from the poor by charging 1,000-plus percent interest. Ground Truth : FAKE Predicted : REAL\n",
            "Sentence:Says that in a hearing, Rep. Gabrielle Giffords suggested to Gen. David Petraeus that the Army put more emphasis on less environmentally damaging methods, like stabbing or clubbing enemy forces in order to minimize the carbon output. Ground Truth : FAKE Predicted : REAL\n",
            "Sentence:In Texas, the No. 1 name for new male babies many of whom will vote one day is Jose. Ground Truth : FAKE Predicted : REAL\n",
            "Sentence:Point Pleasant Beach does not own its beaches; they are privately owned and operated by businesses such as Jenkinsons Ground Truth : FAKE Predicted : REAL\n",
            "Sentence:Says HB2 hasnt moved the needle one iota on North Carolinas economy. Ground Truth : FAKE Predicted : REAL\n",
            "Sentence:Rick Scott took $200,000 from a family that leased land for drilling and now he is trying to hide from it. Ground Truth : FAKE Predicted : REAL\n",
            "Sentence:There are Justice Department policies against FBI Director James Comey discussing details of a federal investigation so close to an election. Ground Truth : FAKE Predicted : REAL\n",
            "Sentence:Joe Biden \"voted against the first Gulf War. He opposed the surge. He wanted to partition Iraq.\" Ground Truth : FAKE Predicted : REAL\n",
            "Sentence:Military \"recruiting went on at Harvard every single day throughout the time (Kagan) was there.\" Ground Truth : FAKE Predicted : REAL\n",
            "Sentence:The Paul Ryan budget proposal would privatize Medicare. Ground Truth : FAKE Predicted : REAL\n",
            "Sentence:The American healthcare system burns 18 percent of our national GDP. Nobody else is close. Ground Truth : FAKE Predicted : REAL\n",
            "Sentence:Twenty percent of housing in Portlands Pearl District is affordable. Ground Truth : FAKE Predicted : REAL\n",
            "Sentence:The Charleston, S.C., shootershould have never been given a gun, but the universal background check was not fast enough. Ground Truth : FAKE Predicted : REAL\n",
            "Sentence:Says Gov. Chris Christies proposal to reduce state income taxes would be the second tax cut for the rich by the governor in two years. Ground Truth : FAKE Predicted : REAL\n",
            "Sentence:During his tenure as mayor, he saw Houstons crime rates drop to the lowest levels in more than 25 years. Ground Truth : FAKE Predicted : REAL\n",
            "Sentence:John McCain, \"one of the richest people in a Senate filled with millionaires,\" says the solution to the housing crisis is for people to get a \"second job\" and \"skip their vacations.\" Ground Truth : FAKE Predicted : REAL\n",
            "Sentence:Since the federal Violence Against Women Act was adopted in 1994, cases of domestic violence have fallen by 67 percent. Ground Truth : FAKE Predicted : REAL\n",
            "Sentence:Says federal law enforcement officers cut off questioning of the Christmas Day underwear bomber by giving him a Miranda warning after 30 minutes of questioning. Ground Truth : FAKE Predicted : REAL\n",
            "Sentence:On legalizing illegal immigrants. Ground Truth : FAKE Predicted : REAL\n",
            "Sentence:Since the president became the president, we have lost 3.3 million jobs in the private sector. But you know whos done OK and whos not complaining today? The public sector. Weve gained 590,000 public sector jobs. Ground Truth : FAKE Predicted : REAL\n",
            "Sentence:Chris Christie has not increased the taxes on anyone. Ground Truth : FAKE Predicted : REAL\n",
            "Sentence:Says Sen. Rob Portman said, It would be irresponsible not to cut Medicare. Ground Truth : FAKE Predicted : REAL\n",
            "Sentence:(Palin) supported right-wing extremist Pat Buchanan for president in 2000. Ground Truth : FAKE Predicted : REAL\n",
            "Sentence:If you put the $47 billion in revenue (raised over 10 years by the Buffett rule) into infrastructure you could create 611,000 infrastructure jobs. Ground Truth : FAKE Predicted : REAL\n",
            "Sentence:I have repeatedly said that many of the predatory loans that were made in the mortgage system did target African-American and Latino communities. Ground Truth : FAKE Predicted : REAL\n",
            "Sentence:The (health reform) legislation which Washington passed last year has made it more difficult to hire because its increased costs for employers. Ground Truth : FAKE Predicted : REAL\n",
            "Sentence:The CBO, the Congressional Budget Office has said that Obamacare will kill 800,000 jobs. Ground Truth : FAKE Predicted : REAL\n",
            "Sentence:On using the Strategic Petroleum Reserve. Ground Truth : FAKE Predicted : REAL\n",
            "Sentence:Immigrants are more fertile. Ground Truth : FAKE Predicted : REAL\n",
            "Sentence:Firearms homicides are down about 40 percent since Texas passed concealed-gun permit law. Ground Truth : FAKE Predicted : REAL\n",
            "Sentence:We spend less on defense today as % of GDP than at any time since Pearl Harbor. Ground Truth : FAKE Predicted : REAL\n",
            "Sentence:The government is going to have the right to get into your bank account with the health care bill and make transfers without you knowing it. Ground Truth : FAKE Predicted : REAL\n",
            "Sentence:There are mechanisms in place to shut down the Internet privately. Ground Truth : FAKE Predicted : REAL\n",
            "Sentence:This year in Congress (Connie Mack IV) has missed almost half of his votes. Ground Truth : FAKE Predicted : REAL\n",
            "Sentence:1/3 of our kids drop out (of high school), cannot go to college or start a career. Ground Truth : FAKE Predicted : REAL\n",
            "Sentence:The federal government has $3 trillion in cash flow, so we can pay our bills and wont default. Ground Truth : FAKE Predicted : REAL\n",
            "Sentence:You cant check out a library book without a photo ID. Ground Truth : FAKE Predicted : REAL\n",
            "Sentence:Says that Starbucks took Christmas off of their brand new cups. Ground Truth : FAKE Predicted : REAL\n",
            "Sentence:Taxpayers are on the hook ... for less than a third of the proposed new Atlanta Falcons stadium, and those funds are repaid from money that comes from outsiders. Ground Truth : FAKE Predicted : REAL\n",
            "Sentence:In the last 22 months, businesses have created more than 3 million jobs. Last year, they created the most jobs since 2005. Ground Truth : FAKE Predicted : REAL\n",
            "Sentence:Recent international reports show the United States near the bottom among industrialized nations for k-12 academic achievement. Ground Truth : FAKE Predicted : REAL\n",
            "Sentence:They tried to give us $400 million to build a high-speed train that goes 39 miles an hour. Ground Truth : FAKE Predicted : REAL\n",
            "Sentence:Says the CBO estimates that fully extending the Bush tax cuts would add 600,000-1.4 million jobs in 2011 and 900,000-2.7 million jobs in 2012. Ground Truth : FAKE Predicted : REAL\n",
            "Sentence:Cell phone numbers go public this month. Ground Truth : FAKE Predicted : REAL\n",
            "Sentence:Says Texas has 11 different felonies you can commit with an oyster. Ground Truth : FAKE Predicted : REAL\n",
            "Sentence:Says Hillary Clinton defended Syrias President Assad as a possible reformer at the start of that countrys civil war. Ground Truth : FAKE Predicted : REAL\n",
            "Sentence:The Postal Services financial losses result from a 2006 law that drains $5 billion a year from post office revenue, while the Postal Service is forced to overpay billions more into federal accounts. Ground Truth : FAKE Predicted : REAL\n",
            "Sentence:Shes voted for 60 tax increases, hurting the middle class and small businesses. Ground Truth : FAKE Predicted : REAL\n",
            "Sentence:Now, in the House of Representatives, we have 40 different jobs bills that have passed and almost all of them have been bipartisan. Ground Truth : FAKE Predicted : REAL\n",
            "Sentence:Republican (small business tax cut) bill spends $80 million for better Google searches, not job creation Ground Truth : FAKE Predicted : REAL\n",
            "Sentence:Polls show that Floridians dont want to repeal the Affordable Care Act. Ground Truth : FAKE Predicted : REAL\n",
            "Sentence:Lawmakers were paid for their off-season efforts to, for the first time, take the lead in drawing borders for two would-be cities. Ground Truth : FAKE Predicted : REAL\n",
            "Sentence:On offshore drilling for energy Ground Truth : FAKE Predicted : REAL\n",
            "Sentence:I haven't missed a vote since 1993. Ground Truth : FAKE Predicted : REAL\n",
            "Sentence:Says Georgia will send more state money per child to state charter schools and that budget cuts are not applied to those charter schools. Ground Truth : FAKE Predicted : REAL\n",
            "Sentence:We know that Saudi Arabia started al-Qaida. Ground Truth : FAKE Predicted : REAL\n",
            "Sentence:Says Williamson County Attorney Jana Duty has never prosecuted a single adult felony case. Ground Truth : FAKE Predicted : REAL\n",
            "Sentence:Says although the unemployment rate seems to be improving, it does not reflect real job creation -- its caused by a shrinking of the actual labor force. Ground Truth : FAKE Predicted : REAL\n",
            "Sentence:The so-called defense minister of the Peoples Republic of Donetsk ... actually posted a bragging social media posting of having shot down a military transport. And then when it became apparent it was civilian, they pulled it down from social media. Ground Truth : FAKE Predicted : REAL\n",
            "Sentence:Democrats are kind of falling over each other seeing who can raise taxes faster. It looks like they're going to raise taxes anywhere between 20 to 30 percent. Ground Truth : FAKE Predicted : REAL\n",
            "Sentence:Its gotten to a point where the average federal worker makes twice as much as the average private sector worker. Ground Truth : FAKE Predicted : REAL\n",
            "Sentence:Jason Carter supports using Georgia tax dollars to promote Obamacare Ground Truth : FAKE Predicted : REAL\n",
            "Sentence:Dan Patrick said that if women get paid less than a man for the same job, that thats not a problem. Ground Truth : FAKE Predicted : REAL\n",
            "Sentence:ISIS camp a few miles from Texas, Mexican authorities confirm. Ground Truth : FAKE Predicted : REAL\n",
            "Sentence:New federal projections estimate that the health care overhaul will cost $1.76 trillion over 10 years -- well above the $940 billion Democrats originally claimed. Ground Truth : FAKE Predicted : REAL\n",
            "Sentence:Social Security is indeed a Ponzi scheme. Ground Truth : FAKE Predicted : REAL\n",
            "Sentence:When the country was founded, Congress had exactly the same attitude about the sanctity of Christmas celebrations that a 7-Eleven does today: Yeah, were open. Ground Truth : FAKE Predicted : REAL\n",
            "Sentence:In Miami-Dade County, we spend at our school system over $20 million every year educating recent immigrants. Ground Truth : FAKE Predicted : REAL\n",
            "Sentence:Californias Prop 60, which would requirecondom usein adult films, would put workers in the adult film industry at riskfor lawsuits and harassment. Ground Truth : FAKE Predicted : REAL\n",
            "Sentence:John Mica voted to borrow $10 trillion. Ground Truth : FAKE Predicted : REAL\n",
            "Sentence:McCain \"hired some of the biggest lobbyists in Washington to run his campaign.\" Ground Truth : FAKE Predicted : REAL\n",
            "Sentence:We do not want to raise anybodys tax rates. Thats never been on the table. Ground Truth : FAKE Predicted : REAL\n",
            "Sentence:This is the first time a party has picked up multiple seats during a regular election since the mid 1980s, making this the largest majority of any party in more than 25 years. Ground Truth : FAKE Predicted : REAL\n",
            "Sentence:The bulk of the people who are shot with a weapon other than these drug gangs taking on one another end up being shot with their own weapon. Ground Truth : FAKE Predicted : REAL\n",
            "Sentence:When President, then candidate, Obama was asked to disclose some of his donors because there was suspicion of their being the foreign source of money into his campaign, they refused to do it. Ground Truth : FAKE Predicted : REAL\n",
            "Sentence:Oregon is the only state out of the 50 states in the USA that continues to pay 100% of the medical benefits for its employees and their families. Ground Truth : FAKE Predicted : REAL\n",
            "Sentence:Three years ago, a newly elected President Obama told America that if Congress approved his plan to borrow nearly a trillion dollars, he would hold unemployment below 8 percent. Ground Truth : FAKE Predicted : REAL\n",
            "Sentence:In the entire public school system in Camden last year, only three students graduated college ready. Ground Truth : FAKE Predicted : REAL\n",
            "Sentence:Says President Obama has cracked down on employers who are attracting undocumented immigrants and hiring them more than any previous president. Ground Truth : FAKE Predicted : REAL\n",
            "Sentence:American voters remain steadfast in their support for immigration reform with a path to citizenship, with more than 70 percent who want to see reform passed this year. Ground Truth : FAKE Predicted : REAL\n",
            "Sentence:Says State Rep. Kristi Thibaut was an ACORN lobbyist. Ground Truth : FAKE Predicted : REAL\n",
            "Sentence:Says state Supreme Court candidate Joe Donald twice supported incumbent Justice Rebecca Bradley. Ground Truth : FAKE Predicted : REAL\n",
            "Sentence:Texas leads the nation in the percentage of residents without health insurance. Ground Truth : FAKE Predicted : REAL\n",
            "Sentence:Says Cory Booker supports late-term and partial-birth abortion and opposes safety regulations. Ground Truth : FAKE Predicted : REAL\n",
            "Sentence:Gov. Rick Perry spent over a million dollars on D.C. lobbyists asking for more federal money and lives in a luxury house that costs taxpayers $10,000 a month. Ground Truth : FAKE Predicted : REAL\n",
            "Sentence:Says Ohio law gives tax breaks to rich people who own private jets. Ground Truth : FAKE Predicted : REAL\n",
            "Sentence:Obama's tax plan cuts taxes \"for 95 percent of all working families.\" Ground Truth : FAKE Predicted : REAL\n",
            "Sentence:Says Colorado Democraticcongressional candidate MorganCarroll racked up $11 billion in new spending in the state Legislature. Ground Truth : FAKE Predicted : REAL\n",
            "Sentence:59 percent of Americans today believe that Barack Obama is still a Muslim. Ground Truth : FAKE Predicted : REAL\n",
            "Sentence:People were hopeless. Sixty percent of the population, 70 percent of the population wanted to live somewhere else. . . . By the time I left, 70 percent wanted to stay. Ground Truth : FAKE Predicted : REAL\n",
            "Sentence:On whether the United States should intervene in Libya. Ground Truth : FAKE Predicted : REAL\n",
            "Sentence:John Kitzhaber created 128,000 new jobs while governor. Ground Truth : FAKE Predicted : REAL\n",
            "Sentence:Says Texas ranks 49th nationally in what we are doing to support our per-pupil investment in education in the state. Ground Truth : FAKE Predicted : REAL\n",
            "Sentence:Despite keeping distance from national media interviewers, I did local press all along, the last three months. Ground Truth : FAKE Predicted : REAL\n",
            "Sentence:Says Florida didnt offer special incentives to Deutsche Bank, which announced it will add 300 jobs in Florida. Ground Truth : FAKE Predicted : REAL\n",
            "Sentence:Says she was the first in her family to go to a four-year college. Ground Truth : FAKE Predicted : REAL\n",
            "Sentence:Americans spend 6.1 billion hours a year on tax preparation. Ground Truth : FAKE Predicted : REAL\n",
            "Sentence:We are now, for the first time ever, energy independent. Ground Truth : FAKE Predicted : REAL\n",
            "Sentence:AARP is \"the largest reseller of insurance in the country\" and \"has a vested interest in seeing that the market for reselling supplemental insurance expands.\" Ground Truth : FAKE Predicted : REAL\n",
            "Sentence:Medicare monthly premiums will go up to $104.20 in 2012 and $247.00 in 2014 due to provisions incorporated in the Obamacare legislation, purposely delayed so as not to confuse the 2012 re-election campaigns. Ground Truth : FAKE Predicted : REAL\n",
            "Sentence:Says Republican Sen. John McCain won more votes for president in Cuyahoga County in the 2008 general election than he did in seven states. Ground Truth : FAKE Predicted : REAL\n",
            "Sentence:Marco Rubio voted against funding health clinics that provide critical care during this public health emergency (Zika). Ground Truth : FAKE Predicted : REAL\n",
            "Sentence:On letting Occupy Atlanta protesters stay in Woodruff Park. Ground Truth : FAKE Predicted : REAL\n",
            "Sentence:Limiting labor negotiations to only wages is how it is for the most part in the private sector. Ground Truth : FAKE Predicted : REAL\n",
            "Sentence:Families in Del Valle, who are City of Austin residents, have to drive to Bastrop to go to the closest grocery store. Ground Truth : FAKE Predicted : REAL\n",
            "Sentence:The FCCs net neutrality policy includes whatis essentially a massive tax increase. Ground Truth : FAKE Predicted : REAL\n",
            "Sentence:A United Nations arms treaty would almost certainly force the U.S. to create an international gun registry, setting the stage for full-scale gun confiscation. Ground Truth : FAKE Predicted : REAL\n",
            "Sentence:More people die from medical misadventures than firearm accidents nationally and in Florida. Ground Truth : FAKE Predicted : REAL\n",
            "Sentence:Charlie Crist has six different positions on ObamaCare. Ground Truth : FAKE Predicted : REAL\n",
            "Sentence:Weve created more jobs in the United States than every other advanced economy combined since I came into office. Ground Truth : FAKE Predicted : REAL\n",
            "Sentence:Wisconsin is dead last in income growth among midwestern states during Gov. Scott Walkers term. Ground Truth : FAKE Predicted : REAL\n",
            "Sentence:I have had the challenge during this administration to suspend no less than 37 public officials in about 36 months. Ground Truth : FAKE Predicted : REAL\n",
            "Sentence:Federal Reserve policies have led to a 69 percent rise in corn prices, 44 percent rise in wheat prices and 15 percent spike in sugar prices over the last year. Ground Truth : FAKE Predicted : REAL\n",
            "Sentence:President Obama in November of last year wiped away (a program) that allows for shared fingerprinting for those who are behind bars so you know who is here legally and illegally. Ground Truth : FAKE Predicted : REAL\n",
            "Sentence:Wisconsins attorney general and state treasurer ordered the daughter of Earth Day founder Gaylord Nelson not to discuss climate change on state time. Ground Truth : FAKE Predicted : REAL\n",
            "Sentence:President Bush never did one interview with the New York Times during his entire presidency. Ground Truth : FAKE Predicted : REAL\n",
            "Sentence:14,000 Americans . . . lose their health insurance every single day. Ground Truth : FAKE Predicted : REAL\n",
            "Sentence:Mr. Trump is self-financing his campaign, so we dont have any donors. Ground Truth : FAKE Predicted : REAL\n",
            "Sentence:Nearly 2,000 high schools - roughly 12 percent of all secondary schools in the United States - produce about half of the nations dropouts. Ground Truth : FAKE Predicted : REAL\n",
            "Sentence:Embryonic stem cell research is at a dead end, with no one good example of a successful treatment. Ground Truth : FAKE Predicted : REAL\n",
            "Sentence:The Providence teacher contract is one of the longest in the country. Ground Truth : FAKE Predicted : REAL\n",
            "Sentence:Look at the debt that has been accumulated in the last two years. Its more debt under this president than all those other presidents combined. Ground Truth : FAKE Predicted : REAL\n",
            "Sentence:There is no Plan B if the transportation referendum is not passed by voters. Ground Truth : FAKE Predicted : REAL\n",
            "Sentence:Democrats have lost more than 900 state legislators since Barack Obama has been president. Ground Truth : FAKE Predicted : REAL\n",
            "Sentence:If Rhode Island does a hybrid [retirement] plan well be the first state in the nation to do this. Ground Truth : FAKE Predicted : REAL\n",
            "Sentence:Failure to raise the debt limit does not force a U.S. default on debt payments. Ground Truth : FAKE Predicted : REAL\n",
            "Sentence:Bill McCollum holds the same position on (embryonic stem cell research) as Barack Obama. Ground Truth : FAKE Predicted : REAL\n",
            "Sentence:In 1999, the NRA leadership in Washington, pretty much the same people intact, were for (expanded background checks.) Ground Truth : FAKE Predicted : REAL\n",
            "Sentence:The number of people in Atlanta dying from HIV and AIDS declined 59 percent between 2004 and 2012. Ground Truth : FAKE Predicted : REAL\n",
            "Sentence:It used to be the policy of the Republican Party to get rid of the Department of Education. We finally get in charge and a chance to do something, so we double the size of the Department of Education. Ground Truth : FAKE Predicted : REAL\n",
            "Sentence:Says a highway was closed in El Paso because of bullets flying across the border. Ground Truth : FAKE Predicted : REAL\n",
            "Sentence:Eight out of the nine states with competitive Senate races, Hispanics make up less than 10 percent of the electorate. Ground Truth : FAKE Predicted : REAL\n",
            "Sentence:On the pace that we're on with job creation in the last four months ...we will have created more jobs in this year than in the entire Bush Presidency. Ground Truth : FAKE Predicted : REAL\n",
            "Sentence:Says Nikita Khrushchev brought an extra shoe to a United Nations session in 1960, which he banged on the desk in protest. Ground Truth : FAKE Predicted : REAL\n",
            "Sentence:Jim Renacci voted repeatedly to end Medicare. Ground Truth : FAKE Predicted : REAL\n",
            "Sentence:Wind powers nearly 13 million homes across the country. Ground Truth : FAKE Predicted : REAL\n",
            "Sentence:Says businesses pay roughly 60 percent of taxes in Texas. Ground Truth : FAKE Predicted : REAL\n",
            "Sentence:Health insurance companies pay CEOs $24 million a year Ground Truth : FAKE Predicted : REAL\n",
            "Sentence:Every president since Franklin Delano Roosevelt has had fast-track trade authority. Ground Truth : FAKE Predicted : REAL\n",
            "Sentence:Says in 1944 we were in debt more than twice as much as we are now. Ground Truth : FAKE Predicted : REAL\n",
            "Sentence:Its hard to get people in Portland to vote yes on ballot measures, especially when theres opposition. Ground Truth : FAKE Predicted : REAL\n",
            "Sentence:Says 11 straight years of no major hurricanes striking land in the United States bores a hole right through the whole climate change argument. Ground Truth : FAKE Predicted : REAL\n",
            "Sentence:We spend more money on health care per capita in the United States than any other country in the world. Of the 30 developed countries in the world, we spend 2 1/2 times more than the average. Of the country that spends the second most per capita, Switzerland, we spend 175 percent more. Ground Truth : FAKE Predicted : REAL\n",
            "Sentence:I have 2 and a half million more votes than he (Sanders) does. Ground Truth : FAKE Predicted : REAL\n",
            "Sentence:Says he worked with the Democratic legislature to balance spending with revenues so that at the end of my four-year term, the rainy day fund was established at more than $2 billion. Ground Truth : FAKE Predicted : REAL\n",
            "Sentence:Says the No. 2 cause of death in the U.S. (for) women under 50 is being killed by their spouse or domestic partner. Ground Truth : FAKE Predicted : REAL\n",
            "Sentence:In 2007, when Nancy Pelosi met with President Assad of Syria, nobody got upset. Ground Truth : FAKE Predicted : REAL\n",
            "Sentence:Rhode Island has the the second-most heavily deployed National Guard in the United States. Ground Truth : FAKE Predicted : REAL\n",
            "Sentence:The IRS will have the ability potentially to deny or delay health care. Ground Truth : FAKE Predicted : REAL\n",
            "Sentence:Barack Obama \"passed laws moving people from welfare to work.\" Ground Truth : FAKE Predicted : REAL\n",
            "Sentence:Says Mitt Romney is wrong to claim that spending under Obama has accelerated at a pace without precedent in recent history, because its actually risen slower than at any time in nearly 60 years. Ground Truth : FAKE Predicted : REAL\n",
            "Sentence:The Richardson-Denish administration gave 50,000 drivers licenses to illegal immigrants in New Mexico. Ground Truth : FAKE Predicted : REAL\n",
            "Sentence:Rhode Island is the only state where officers at state-supported [colleges] carry out their duties unarmed. Ground Truth : FAKE Predicted : REAL\n",
            "Sentence:Says the United States has the highest corporate tax rate in the world. Ground Truth : FAKE Predicted : REAL\n",
            "Sentence:Recent solar energy policies in Georgia have resulted in rate hikes and did not result in solar becoming any more economically viable. Ground Truth : FAKE Predicted : REAL\n",
            "Sentence:We spend twice as much per capita on health care as any other nation on Earth. Ground Truth : FAKE Predicted : REAL\n",
            "Sentence:Most military experts say there is anywhere between 25 and 30 members of al Qaeda in Afghanistan. Ground Truth : FAKE Predicted : REAL\n",
            "Sentence:Says Kelly Ayotte stands with the Washington gun lobby. They fund her campaigns. Ground Truth : FAKE Predicted : REAL\n",
            "Sentence:Every year we spend roughly $500 billion on tax compliance. That is roughly the budget of our entire military, entirely wasted on tax compliance. Ground Truth : FAKE Predicted : REAL\n",
            "Sentence:They say teachers only make on averagein New Jersey 60,000 dollars a year.They only work 180 days. Ground Truth : FAKE Predicted : REAL\n",
            "Sentence:Exporters are using a federal loophole to deceptively sell products made from cat and dog fur to U.S. consumers. Ground Truth : FAKE Predicted : REAL\n",
            "Sentence:Mitt Romneys and Bain Capitals profits from KB Toys, which later went out of business, were described by the Boston Herald as disgusting. Ground Truth : FAKE Predicted : REAL\n",
            "Sentence:Roy Coopers refusal to do his job is costing taxpayers money. Ground Truth : FAKE Predicted : REAL\n",
            "Sentence:In exchange for five minutes with Bill Clinton, the government of Qatar was going to give $1 million to the Clinton Foundation. Ground Truth : FAKE Predicted : REAL\n",
            "Sentence:Salaries of Austin residents who dont work for city government have not been going up 3 percent a year for the last several years. Ground Truth : FAKE Predicted : REAL\n",
            "Sentence:Harry Reid has voted to give special tax breaks to illegal aliens. Ground Truth : FAKE Predicted : REAL\n",
            "Sentence:Job growth in the United States is now at the fastest pace in this countrys history. Ground Truth : FAKE Predicted : REAL\n",
            "Sentence:Says hes never asked for more than inflationary budget increases in his 10 budgets as Milwaukee County sheriff Ground Truth : FAKE Predicted : REAL\n",
            "Sentence:Under New York Mayor Bill de Blasio, homicides are up by 20 percent, and subway delays have soared 45 percent. Ground Truth : FAKE Predicted : REAL\n",
            "Sentence:Says U.S. Rep. Lamar Smith supported the $700 billion Wall Street bailout in 2008, \"but now he is standing in the way of reforms that would assure these bailouts would never happen again. Ground Truth : FAKE Predicted : REAL\n",
            "Sentence:Ninety-seven percent of the time. Thats how often Mark Warner votes with President Obama. Ground Truth : FAKE Predicted : REAL\n",
            "Sentence:Says Rick Perry is a 25-year incumbent. Ground Truth : FAKE Predicted : REAL\n"
          ]
        }
      ]
    },
    {
      "cell_type": "markdown",
      "source": [
        "# False negatives for FAKE "
      ],
      "metadata": {
        "id": "_A0spa3FlqdD"
      }
    },
    {
      "cell_type": "code",
      "source": [
        "for (sentence, true, predicted) in zip(raw_data[0:820],labelsets_val,predictionsets):\n",
        "  if true == 'FAKE':\n",
        "    if predicted == 'FAKE':\n",
        "      print(f'Sentence:{sentence[0]} Ground Truth : {true} Predicted : {predicted}')"
      ],
      "metadata": {
        "colab": {
          "base_uri": "https://localhost:8080/"
        },
        "id": "GFOObrbpk_Ah",
        "outputId": "49b40f6e-db07-4680-9599-22a3698d31d1"
      },
      "execution_count": 22,
      "outputs": [
        {
          "output_type": "stream",
          "name": "stdout",
          "text": [
            "Sentence:Hate crimes against American Muslims and mosques have tripled after Paris and San Bernardino. Ground Truth : FAKE Predicted : FAKE\n",
            "Sentence:Rick Perry has never lost an election and remains the only person to have won the Texas governorship three times in landslide elections. Ground Truth : FAKE Predicted : FAKE\n",
            "Sentence:In the case of a catastrophic event, the Atlanta-area offices of the Centers for Disease Control and Prevention will self-destruct. Ground Truth : FAKE Predicted : FAKE\n",
            "Sentence:Says Marco Rubio skipped 18 defense votes including one to arm the Kurds to fight ISIS. Ground Truth : FAKE Predicted : FAKE\n",
            "Sentence:President Barack Obama took exactly none of his own deficit reduction commissions ideas. Not one. Ground Truth : FAKE Predicted : FAKE\n",
            "Sentence:It was under Barack Obama and Hillary Clinton that changed the rules of engagement that probably cost (Capt. Humayun Khans) life. Ground Truth : FAKE Predicted : FAKE\n",
            "Sentence:Only 2 percent of public high schools in the country offer PE classes. Ground Truth : FAKE Predicted : FAKE\n",
            "Sentence:The only time in our history when the debt has been higher than this was the end of World War II. Ground Truth : FAKE Predicted : FAKE\n",
            "Sentence:In Rick Perrys Texas, we import nurses ... from other countries. Ground Truth : FAKE Predicted : FAKE\n",
            "Sentence:We built a new prison every 10 days between 1990 and 2005 to keep up with our mass incarceration explosion of nonviolent offenders. Ground Truth : FAKE Predicted : FAKE\n",
            "Sentence:Austin is burdened by the fastest-growing tax increases of any major city in the nation. Ground Truth : FAKE Predicted : FAKE\n",
            "Sentence:Did you know US population growth is at its lowest since the Great Depression? Ground Truth : FAKE Predicted : FAKE\n",
            "Sentence:The average student in Florida, what they actually pay out of pocket at our major universities for tuition is as much or less than what they spend on cellphones. Ground Truth : FAKE Predicted : FAKE\n",
            "Sentence:The Atlanta streetcar is expected to create 930 jobs during construction, totaling more than 5,600 jobs over the next 20 years. Ground Truth : FAKE Predicted : FAKE\n",
            "Sentence:Two-thirds of Wisconsinites receiving unemployment checks are not required to search for work due to current work search exemptions. Ground Truth : FAKE Predicted : FAKE\n",
            "Sentence:Barack Hussein Obama will ... force courts to accept Islamic Sharia law in domestic disputes. Ground Truth : FAKE Predicted : FAKE\n",
            "Sentence:The years that I was speaker, the Florida House consistently offered leaner budgets than the governor offered. Ground Truth : FAKE Predicted : FAKE\n",
            "Sentence:We are already almost halfway to our 2010 goal of creating 700,000 new jobs in seven years. Ground Truth : FAKE Predicted : FAKE\n",
            "Sentence:Says the U.S. Supreme Court found that Social Security is not guaranteed. Ground Truth : FAKE Predicted : FAKE\n",
            "Sentence:Research shows that a vast majority of arriving immigrants today come here because they believe that government is the source of prosperity, and thats what they support. Ground Truth : FAKE Predicted : FAKE\n",
            "Sentence:Newt Gingrichs immigration plan offers a new doorway to amnesty. Ground Truth : FAKE Predicted : FAKE\n",
            "Sentence:Says the Arizona immigration law expressly bans racial profiling. Ground Truth : FAKE Predicted : FAKE\n",
            "Sentence:In 2005, Dan Branch tried to expand third-trimester abortions in Texas. Ground Truth : FAKE Predicted : FAKE\n",
            "Sentence:The jobs bill includes President Obamas tax on soup kitchens Ground Truth : FAKE Predicted : FAKE\n",
            "Sentence:Says the Obama administration spent taxpayer dollars on electric cars in Finland (and) windmills in China. Ground Truth : FAKE Predicted : FAKE\n",
            "Sentence:Says Illinois gubernatorial candidate Bill Bradys first priority after winning the primary was to sponsor a bill that would mass-euthanize sheltered dogs and cats in gas chambers. Ground Truth : FAKE Predicted : FAKE\n",
            "Sentence:Barack Obama is in an economy thats only worsened since hes been president of the United States. Ground Truth : FAKE Predicted : FAKE\n",
            "Sentence:Says New Jersey is down nearly 200,000 jobs from its pre-recession peak and with Gov. Chris Christie New Jersey has trailed the rest of America when it comes to unemployment for 12 consecutive months. Ground Truth : FAKE Predicted : FAKE\n",
            "Sentence:Says judges get better benefits at a lower cost than everybody else in the state. Ground Truth : FAKE Predicted : FAKE\n",
            "Sentence:There are a lot of casinos across the country that have gone bankrupt. Ground Truth : FAKE Predicted : FAKE\n",
            "Sentence:Small businesses create 70 percent of the jobs in America. Ground Truth : FAKE Predicted : FAKE\n",
            "Sentence:Over 12,000 school kids were arrested in Florida. It makes Florida the nations leader in that area. Ground Truth : FAKE Predicted : FAKE\n",
            "Sentence:It is a commitment voters take very seriously: The only incumbent in Ohio to break his Pledge and vote for Ted Stricklands income tax hike was defeated soundly on Tuesday. Ground Truth : FAKE Predicted : FAKE\n",
            "Sentence:Every single one of the 41 Republican senators who just blocked a raise in the minimum wage will receive a $2,800 cost-of-living adjustment on January 1, 2015. Ground Truth : FAKE Predicted : FAKE\n",
            "Sentence:In the last five years, 28,000 people have been killed along the U.S.-Mexico border. Ground Truth : FAKE Predicted : FAKE\n",
            "Sentence:The Family Research Council, according to some government agencies, is a terrorist group. Ground Truth : FAKE Predicted : FAKE\n",
            "Sentence:Says that in the 1985 election former Gov. Tom Kean had the largest winning margin for a gubernatorial candidate in Jersey history. Ground Truth : FAKE Predicted : FAKE\n",
            "Sentence:The median male worker in this country has not seen a raise, inflation adjusted, for 30 years, basically. Ground Truth : FAKE Predicted : FAKE\n",
            "Sentence:Milwaukee Mayor Tom Barrett has held the line on property taxes. Ground Truth : FAKE Predicted : FAKE\n",
            "Sentence:Says Rush Limbaugh made it clear hed rather see the country fail than President Barack Obama succeed. Ground Truth : FAKE Predicted : FAKE\n",
            "Sentence:Says that under Rick Perrys plan, Texas has cut funding for public schools by 25%. Ground Truth : FAKE Predicted : FAKE\n",
            "Sentence:Sixty-five percent of the Iraqi people now say it's okay to shoot an American soldier. Ground Truth : FAKE Predicted : FAKE\n",
            "Sentence:Says there are homes for sale on and around (Oswego Lake) right now for under $150,000 that anyone is welcome to buy. Ground Truth : FAKE Predicted : FAKE\n",
            "Sentence:The United States does not have a system through which growers and dairies can bring a workforce legally into the U.S. Ground Truth : FAKE Predicted : FAKE\n",
            "Sentence:Since 1978, college tuition nationwide has gone up something like four times the rate of inflation. Ground Truth : FAKE Predicted : FAKE\n",
            "Sentence:While fighting a move to toughen penalties for workplace gender discrimination, state Sen. Glenn Grothman said he didnt believe women belonged in the workplace but belonged at home, cooking and cleaning and having babies. Ground Truth : FAKE Predicted : FAKE\n",
            "Sentence:What is the proper collective noun for a group of baboons? Believe it or not . . . a Congress! Ground Truth : FAKE Predicted : FAKE\n",
            "Sentence:The number of uninsured people in Massachusetts is about the same as it was when the mandates were passed in 2006. Ground Truth : FAKE Predicted : FAKE\n",
            "Sentence:Upwards of 90 percent of women seeking an abortion decide not to have an abortion after seeing an ultrasound. Ground Truth : FAKE Predicted : FAKE\n",
            "Sentence:If you got rid of the income tax today you'd have about as much revenue as we had 10 years ago. Ground Truth : FAKE Predicted : FAKE\n",
            "Sentence:Says Scott Walker wants to ban common forms of birth control, including the pill. Ground Truth : FAKE Predicted : FAKE\n",
            "Sentence:Blames Mike McIntyre and Nancy Pelosi for the second straight year of no cost-of-living increases for Social Security beneficiaries. Ground Truth : FAKE Predicted : FAKE\n",
            "Sentence:Nobody has played clips over and over ...of President Obama (saying), If they bring a knife to the fight, well bring a gun. Ground Truth : FAKE Predicted : FAKE\n",
            "Sentence:Under legislation that has cleared the Georgia House, some children who are legal refugees could obtain state scholarships to attend private schools. Ground Truth : FAKE Predicted : FAKE\n",
            "Sentence:The STAR Ohio fund just received the highest possible credit rating one of these funds can receive. Ground Truth : FAKE Predicted : FAKE\n",
            "Sentence:Says he raised average family income by 50 percent during his tenure as Arkansas governor. Ground Truth : FAKE Predicted : FAKE\n",
            "Sentence:In the class of 1968 at Patrice Lumumba University in Moscow, Mahmoud Abbas was one of the members of that class, and so was Ali Khamenei. And thats where they first established relationships with the young Vladimir Putin. Ground Truth : FAKE Predicted : FAKE\n",
            "Sentence:Says that while Foster was mayor, Rick Kriseman was ineffective in the Florida House of Representatives because there was no legislation that passed the House that had (Krisemans) name on it. Ground Truth : FAKE Predicted : FAKE\n",
            "Sentence:The Obama administration is unwinding our nations welfare-to-work requirements. Ground Truth : FAKE Predicted : FAKE\n",
            "Sentence:Sheila Jackson Lee of Texas said: Hey, all you wrinkly, white-aged has-beens: Its time for you to die and let the next generation have your spot on the planet. Ground Truth : FAKE Predicted : FAKE\n",
            "Sentence:2008 was the deadliest year of the war (in Afghanistan) for American forces. Ground Truth : FAKE Predicted : FAKE\n",
            "Sentence:Florida teachers are \"already paid $5,000 below the national average.\" Ground Truth : FAKE Predicted : FAKE\n",
            "Sentence:Says Amanda Fritz manages less than 5 percent of city operations. Ground Truth : FAKE Predicted : FAKE\n",
            "Sentence:The streetcar project planned by Mayor Tom Barrett would be a 1900s style trolley. Ground Truth : FAKE Predicted : FAKE\n",
            "Sentence:Says Congressman Bill Pascrell voted to remove the public option from the Affordable Health Care Act. Ground Truth : FAKE Predicted : FAKE\n",
            "Sentence:Greg Abbott and his surrogates have referred to women who have been the victims of rape or incest as though somehow what they are confronting is a minor issue. Ground Truth : FAKE Predicted : FAKE\n",
            "Sentence:Under a proposed medical marijuana amendment in Florida, you dont get refills -- you get it forever. Ground Truth : FAKE Predicted : FAKE\n",
            "Sentence:The Supreme Court cant overrule the other two branchesof government. Ground Truth : FAKE Predicted : FAKE\n",
            "Sentence:Roughly 25% of RI has a criminal record Ground Truth : FAKE Predicted : FAKE\n",
            "Sentence:Congress is bewildered at the scope and reach of our spying apparatus but in 2008 and 2012 explicitly rejected an amendment calling for more disclosure. Ground Truth : FAKE Predicted : FAKE\n",
            "Sentence:Six people in Florida die as a result of (not expanding Medicaid) every day. Ground Truth : FAKE Predicted : FAKE\n",
            "Sentence:Issue 2 makes it illegal for us to negotiate for enough firefighters to do the job. Ground Truth : FAKE Predicted : FAKE\n",
            "Sentence:Common Core is not from the federal government, they do not have their fingerprints on this thing at all. Ground Truth : FAKE Predicted : FAKE\n",
            "Sentence:Trump proposed enacting the largest tax increase in American history. Ground Truth : FAKE Predicted : FAKE\n",
            "Sentence:Says real estate taxes were put in place to pay for Obamacare. Ground Truth : FAKE Predicted : FAKE\n",
            "Sentence:When terrorists killed more than 250 Americans in Lebanon under Ronald Reagan, the Democrats didnt make that a partisan issue. Ground Truth : FAKE Predicted : FAKE\n",
            "Sentence:Says no one from the Bush family attended the 2012 Republican National Convention and there was no President Bush at the 2008 convention. Ground Truth : FAKE Predicted : FAKE\n",
            "Sentence:Salaries for URI faculty are second to last among New England land grant universities and in lowest 20 percent of major U.S. research institutions Ground Truth : FAKE Predicted : FAKE\n",
            "Sentence:Says Donald Trump cashed in on Sept. 11,collecting $150,000 in federal funds intended to help small businesses recover even though days after the attack Trump said his properties were not affected. Ground Truth : FAKE Predicted : FAKE\n",
            "Sentence:Says Newt Gingrich made an affirmative statement that he would not only support but he would campaign for Republicans who were in support of the barbaric procedure known as partial-birth abortion. Ground Truth : FAKE Predicted : FAKE\n",
            "Sentence:I told the Congress 'thanks, but no thanks,' on that Bridge to Nowhere. Ground Truth : FAKE Predicted : FAKE\n",
            "Sentence:The actual (construction) contracts that weve awarded to date have come in several hundred million dollars below estimates. Ground Truth : FAKE Predicted : FAKE\n",
            "Sentence:State school funding per pupil is down 16 percent compared to 2009, after adjusting for inflation. Ground Truth : FAKE Predicted : FAKE\n",
            "Sentence:Atlanta is the No. 1 trading point for sexual slavery in America. Between 100 and 200 girls are sold into slavery in Atlanta every month. Ground Truth : FAKE Predicted : FAKE\n",
            "Sentence:There were 36 states where Republicans who were in charge refused to implement a state (health insurance) exchange. Ground Truth : FAKE Predicted : FAKE\n",
            "Sentence:The DNC says McCain flip-flopped on whether the Iraq War would be easy. Ground Truth : FAKE Predicted : FAKE\n",
            "Sentence:In every ethics case that has resulted in a formal sanction, theres been an investigative subcommittee thats been established first. Ground Truth : FAKE Predicted : FAKE\n",
            "Sentence:A bill delaying the start of classes until Labor Day would permit school districts to shave 5 full weeks off the school year. Ground Truth : FAKE Predicted : FAKE\n",
            "Sentence:What we said was, you can keep (your plan) if it hasnt changed since the law passed. Ground Truth : FAKE Predicted : FAKE\n",
            "Sentence:There was a Gallup poll in Egypt last year, and 70 percent of Egyptians dont want our money. Ground Truth : FAKE Predicted : FAKE\n",
            "Sentence:The truth of the matter is that during my administration, the FBI's crime statistics show that violent crime was reduced in Massachusetts by 7 percent. Ground Truth : FAKE Predicted : FAKE\n",
            "Sentence:Scott Maddox has run \"losing campaigns for 3 of Florida's 4 available cabinet positions.\" Ground Truth : FAKE Predicted : FAKE\n",
            "Sentence:What I have put forward does not add a penny to the debt. Ground Truth : FAKE Predicted : FAKE\n",
            "Sentence:There are more African American men in prison, jail, on probation or parole than were enslaved in 1850. Ground Truth : FAKE Predicted : FAKE\n",
            "Sentence:In first week as governor, Tim Kaine proposed a nearly $4 billion tax increase, $4 billion, including a tax increase on people earning as little as $17,000 a year. Ground Truth : FAKE Predicted : FAKE\n",
            "Sentence:Mitt Romneys pledged to protect (oil companies) record profits and their billions in special tax breaks, too. Ground Truth : FAKE Predicted : FAKE\n",
            "Sentence:State government spending will be increase 10.7 percent this year. Ground Truth : FAKE Predicted : FAKE\n",
            "Sentence:When we took office, let me remind you, there was virtually no international pressure on Iran. Ground Truth : FAKE Predicted : FAKE\n",
            "Sentence:Says abortion doctors are flying into this state, performing abortions and flying out. Ground Truth : FAKE Predicted : FAKE\n",
            "Sentence:There have been at least 100 shootings each year [Angel Taveras] has been mayor of Providence. Ground Truth : FAKE Predicted : FAKE\n",
            "Sentence:A three-cents-per-ounce soda tax in Philadelphia would result in the loss of 2,000 family-sustaining Teamster Union jobs and countless other jobs in the beverage industry. Ground Truth : FAKE Predicted : FAKE\n",
            "Sentence:Ninety percent of Texans say they do not want the nursing homes to close. It polls higher than anything else. Ground Truth : FAKE Predicted : FAKE\n",
            "Sentence:Because of the 2011 debt ceiling fight, the stock market lost 2,000 points. Ground Truth : FAKE Predicted : FAKE\n",
            "Sentence:Says unions take away hard-earned money of teachers, firefighters and police officers to play politics. Ground Truth : FAKE Predicted : FAKE\n",
            "Sentence:Annual precipitation has increased in Rhode Island by over 12 inches in the last century. Ground Truth : FAKE Predicted : FAKE\n",
            "Sentence:Says Connie Mack initially said he would have voted yes for the Paul Ryan budget plan, and then, you said it was stupid and you would vote no. And then your folks corrected you, and you changed your position again, yes. Ground Truth : FAKE Predicted : FAKE\n",
            "Sentence:The state budget proposal has been submitted on time and [its] the earliest that a governor has done so in over two decades. Ground Truth : FAKE Predicted : FAKE\n",
            "Sentence:The most likely triggering cause of (microcephaly) is the DTaP shot, a vaccine that had been recently mandated by the Brazilian government to be injected into pregnant women. Ground Truth : FAKE Predicted : FAKE\n",
            "Sentence:The ACLU didnt call for an investigation (of the Newark police department), they called for an immediate federal monitor. Ground Truth : FAKE Predicted : FAKE\n",
            "Sentence:95 percent of the income gains in the last few years have gone to the top 1 percent. Ground Truth : FAKE Predicted : FAKE\n",
            "Sentence:We didnt go out and take information from the Hillary Clinton campaign. Ground Truth : FAKE Predicted : FAKE\n",
            "Sentence:If you actually took the number of Muslims [sic] Americans, we'd be one of the largest Muslim countries in the world. Ground Truth : FAKE Predicted : FAKE\n",
            "Sentence:Low-flow toilets can cost homeowners up to $1,000 each. Ground Truth : FAKE Predicted : FAKE\n",
            "Sentence:Obama has racked up more debt than any president in history over $5 trillion. Ground Truth : FAKE Predicted : FAKE\n",
            "Sentence:Says Arizona congressional candidate Ray Strauss is a Champion of Big Government for his votes to raise taxes while on the local city council. Ground Truth : FAKE Predicted : FAKE\n",
            "Sentence:Says Oregon is near the top or at the top of the list when it comes to capital gains tax Ground Truth : FAKE Predicted : FAKE\n",
            "Sentence:Says Ronda Storms voted to fund the Taj Mahal courthouse. Ground Truth : FAKE Predicted : FAKE\n",
            "Sentence:One-half of undocumented workers pay federal income taxes, which means they are paying more federal income taxes than Donald Trump pays. Ground Truth : FAKE Predicted : FAKE\n",
            "Sentence:Says Ohios I-X Center used to be a great plant, but thousands of people of worked here, and they left when their jobs were moved overseas. Ground Truth : FAKE Predicted : FAKE\n",
            "Sentence:Says Texas voters are being asked to act this November on a proposed constitutional amendment affecting property taxes. Ground Truth : FAKE Predicted : FAKE\n",
            "Sentence:Some businesses in Oregon are having to shrink back their businesses as a result of the law. Ground Truth : FAKE Predicted : FAKE\n",
            "Sentence:On abortion Ground Truth : FAKE Predicted : FAKE\n",
            "Sentence:In 2010 alone, 1,270 infants were reported to have died following attempted abortions and notably that is only one year. Ground Truth : FAKE Predicted : FAKE\n",
            "Sentence:David Perdue said hed raise taxes. Ground Truth : FAKE Predicted : FAKE\n",
            "Sentence:Wisconsins criminal threshold for drunken-driving is way out of line with states surrounding us, which have the second offense as a felony. Ground Truth : FAKE Predicted : FAKE\n",
            "Sentence:In Ohio, we invested in our children, raising school funding by 5.5 percent in the last budget. Ground Truth : FAKE Predicted : FAKE\n",
            "Sentence:The poverty level in the Dallas school district is one of the highest in the country, higher than New York, Chicago, Los Angeles, Houston, Detroit and Newark. Ground Truth : FAKE Predicted : FAKE\n",
            "Sentence:Says Mahatma Gandhi once said, First they ignore you, then they laugh at you, then they fight you, then you win. Ground Truth : FAKE Predicted : FAKE\n",
            "Sentence:Savings that I achieved helped fund cameras on the border. As a result, more than 21,500 arrests have been made and 46 tons of narcotics confiscated. Ground Truth : FAKE Predicted : FAKE\n",
            "Sentence:Deregulation of the states telecommunications industry will create 50,000 jobs in Wisconsin. Ground Truth : FAKE Predicted : FAKE\n",
            "Sentence:There's more than 100,000 people working at the Department of Agriculture. That's 1 employee for every 30 farmers. Ground Truth : FAKE Predicted : FAKE\n",
            "Sentence:Says Attorney General Loretta Lynch was a member of Bill Clintons defense team during the 1992 Whitewater corruption probe. Ground Truth : FAKE Predicted : FAKE\n",
            "Sentence:Says thousands at a Manhattan rally for Donald Trump were chanting We hate Muslims, we hate blacks, we want our great country back. Ground Truth : FAKE Predicted : FAKE\n",
            "Sentence:The amount of debt is on pace to double in five years and triple in 10. The federal debt is now over $100,000 per household. Ground Truth : FAKE Predicted : FAKE\n",
            "Sentence:Says Richard Burr was one of only three senators who voted against a ban on insider trading for members of Congress. And he called that vote brave. Ground Truth : FAKE Predicted : FAKE\n",
            "Sentence:Says Paul Ryan tried to change the whole game for Social Security Ground Truth : FAKE Predicted : FAKE\n",
            "Sentence:Says President Barack Obamas acceptance of an Islamic order and gold medal was unconstitutional. Ground Truth : FAKE Predicted : FAKE\n",
            "Sentence:Rob Cornilles has disputed for two years a news story that said he said he would cut Social Security and Medicare programs before trimming the U.S. defense budget. Ground Truth : FAKE Predicted : FAKE\n",
            "Sentence:Atlanta has issued an increasing number of citations - and collected an increasing amount of revenue - since Mayor Kasim Reed took office in 2010. Ground Truth : FAKE Predicted : FAKE\n",
            "Sentence:The State of Rhode Island has the worst state-funded pension in the country. Ground Truth : FAKE Predicted : FAKE\n",
            "Sentence:More than any Republican governor in the 2014 elections, I took a higher percentage of the Republican voteand yet I also carried independents by 12 points. Ground Truth : FAKE Predicted : FAKE\n"
          ]
        }
      ]
    },
    {
      "cell_type": "markdown",
      "source": [
        "After looking at the FN file, there are several observations:\n",
        "* Claims about groups and/or foreign countries (to the USA) are prevalent (e.g. \"Blocking travel from countries with Ebola should be possible because President Barack Obama has sealed off Israel in the past.\" \n",
        "* Possibly sentiment is stronger than in the FNs with stronger claims, possibly exaggerated (\"Under Greg Abbott, Texas four-year-olds would be forced to undergo standardized tests.\" \"Poll after poll after poll shows me beating Hillary.\")\n",
        "* Many numerical claims again, though in different formats. May be more extreme numerical claims or vague compared to the other REAL TPs - in either way, given different formats need to join represent numerical claims in a similar way whether in figures or in words if there is something about the nature of the claims which means they're fake\n"
      ],
      "metadata": {
        "id": "ASBrMT9wLUrp"
      }
    }
  ],
  "metadata": {
    "kernelspec": {
      "display_name": "Python 3",
      "language": "python",
      "name": "python3"
    },
    "language_info": {
      "codemirror_mode": {
        "name": "ipython",
        "version": 3
      },
      "file_extension": ".py",
      "mimetype": "text/x-python",
      "name": "python",
      "nbconvert_exporter": "python",
      "pygments_lexer": "ipython3",
      "version": "3.7.4"
    },
    "colab": {
      "provenance": []
    }
  },
  "nbformat": 4,
  "nbformat_minor": 0
}